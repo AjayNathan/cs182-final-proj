{
 "cells": [
  {
   "cell_type": "code",
   "execution_count": 12,
   "metadata": {
    "collapsed": false
   },
   "outputs": [],
   "source": [
    "import numpy as np\n",
    "import pandas as pd\n",
    "from sklearn.cross_validation import train_test_split as sk_split\n",
    "from sklearn import linear_model\n",
    "\n",
    "np.set_printoptions(threshold='nan')"
   ]
  },
  {
   "cell_type": "code",
   "execution_count": 10,
   "metadata": {
    "collapsed": false
   },
   "outputs": [
    {
     "data": {
      "text/plain": [
       "array([ 0.,  0.,  0.,  0.,  0.])"
      ]
     },
     "execution_count": 10,
     "metadata": {},
     "output_type": "execute_result"
    }
   ],
   "source": [
    "np.zeros(5)"
   ]
  },
  {
   "cell_type": "code",
   "execution_count": 18,
   "metadata": {
    "collapsed": false
   },
   "outputs": [
    {
     "ename": "IndexError",
     "evalue": "index 140 is out of bounds for axis 0 with size 140",
     "output_type": "error",
     "traceback": [
      "\u001b[0;31m---------------------------------------------------------------------------\u001b[0m",
      "\u001b[0;31mIndexError\u001b[0m                                Traceback (most recent call last)",
      "\u001b[0;32m<ipython-input-18-086ed9f8b4eb>\u001b[0m in \u001b[0;36m<module>\u001b[0;34m()\u001b[0m\n\u001b[1;32m     39\u001b[0m \u001b[0;34m\u001b[0m\u001b[0m\n\u001b[1;32m     40\u001b[0m \u001b[0;32mfor\u001b[0m \u001b[0mtext\u001b[0m \u001b[0;32min\u001b[0m \u001b[0mclinton_data\u001b[0m\u001b[0;34m:\u001b[0m\u001b[0;34m\u001b[0m\u001b[0m\n\u001b[0;32m---> 41\u001b[0;31m     \u001b[0mloadCharsFromTxt\u001b[0m\u001b[0;34m(\u001b[0m\u001b[0mtext\u001b[0m\u001b[0;34m,\u001b[0m \u001b[0mclinton_dataset\u001b[0m\u001b[0;34m)\u001b[0m\u001b[0;34m\u001b[0m\u001b[0m\n\u001b[0m\u001b[1;32m     42\u001b[0m \u001b[0;34m\u001b[0m\u001b[0m\n\u001b[1;32m     43\u001b[0m \u001b[0;32mfor\u001b[0m \u001b[0mtext\u001b[0m \u001b[0;32min\u001b[0m \u001b[0mtrump_data\u001b[0m\u001b[0;34m:\u001b[0m\u001b[0;34m\u001b[0m\u001b[0m\n",
      "\u001b[0;32m<ipython-input-18-086ed9f8b4eb>\u001b[0m in \u001b[0;36mloadCharsFromTxt\u001b[0;34m(text, dataset)\u001b[0m\n\u001b[1;32m     33\u001b[0m                     \u001b[0mindex\u001b[0m \u001b[0;34m=\u001b[0m \u001b[0mord\u001b[0m\u001b[0;34m(\u001b[0m\u001b[0mchar\u001b[0m\u001b[0;34m)\u001b[0m \u001b[0;34m-\u001b[0m \u001b[0mord\u001b[0m\u001b[0;34m(\u001b[0m\u001b[0;34m'0'\u001b[0m\u001b[0;34m)\u001b[0m \u001b[0;34m+\u001b[0m \u001b[0;36m27\u001b[0m\u001b[0;34m\u001b[0m\u001b[0m\n\u001b[1;32m     34\u001b[0m                 \u001b[0;32mif\u001b[0m \u001b[0mindex\u001b[0m\u001b[0;34m:\u001b[0m\u001b[0;34m\u001b[0m\u001b[0m\n\u001b[0;32m---> 35\u001b[0;31m                     \u001b[0mimage\u001b[0m\u001b[0;34m[\u001b[0m\u001b[0mcharCount\u001b[0m\u001b[0;34m,\u001b[0m \u001b[0mindex\u001b[0m\u001b[0;34m]\u001b[0m \u001b[0;34m=\u001b[0m \u001b[0;36m1\u001b[0m\u001b[0;34m\u001b[0m\u001b[0m\n\u001b[0m\u001b[1;32m     36\u001b[0m                     \u001b[0mcharCount\u001b[0m \u001b[0;34m+=\u001b[0m \u001b[0;36m1\u001b[0m\u001b[0;34m\u001b[0m\u001b[0m\n\u001b[1;32m     37\u001b[0m \u001b[0;34m\u001b[0m\u001b[0m\n",
      "\u001b[0;31mIndexError\u001b[0m: index 140 is out of bounds for axis 0 with size 140"
     ]
    }
   ],
   "source": [
    "training_data = pd.read_csv('datasets/tweets.csv', delimiter=',')\n",
    "testing_data = pd.read_csv('datasets/tweets2.csv', delimiter=',')\n",
    "\n",
    "clinton_data_1 = training_data[training_data.handle == \"HillaryClinton\"][\"text\"].as_matrix()\n",
    "trump_data_1 = training_data[training_data.handle == \"realDonaldTrump\"][\"text\"].as_matrix()\n",
    "\n",
    "clinton_data_2 = testing_data[testing_data.handle == \"HillaryClinton\"][\"text\"].as_matrix()\n",
    "trump_data_2 = testing_data[testing_data.handle == \"realDonaldTrump\"][\"text\"].as_matrix()\n",
    "\n",
    "clinton_data = np.concatenate((clinton_data_1, clinton_data_2), axis=0)\n",
    "trump_data = np.concatenate((trump_data_1, trump_data_2), axis=0)\n",
    "\n",
    "clinton_dataset = []\n",
    "trump_dataset = []\n",
    "\n",
    "def loadCharsFromTxt(text, dataset):\n",
    "    image = np.zeros((140, 37))\n",
    "    words = text.lower().split()\n",
    "    \n",
    "    charCount = 0\n",
    "    spaceIndex = 0\n",
    "    for word in words:\n",
    "        if \"t.co\" in word:\n",
    "            continue\n",
    "        else:\n",
    "            # so that it doesn't add a space at the beginning of the tweet\n",
    "            if charCount != 0:\n",
    "                image[charCount, spaceIndex] = 1\n",
    "                charCount += 1\n",
    "            for char in word:\n",
    "                index = None\n",
    "                if char.isalpha():\n",
    "                    index = ord(char) - ord('a') + 1\n",
    "                elif char.isdigit():\n",
    "                    index = ord(char) - ord('0') + 27\n",
    "                if index:\n",
    "                    image[charCount, index] = 1\n",
    "                    charCount += 1\n",
    "\n",
    "    dataset.append(image)\n",
    "\n",
    "for text in clinton_data:\n",
    "    loadCharsFromTxt(text, clinton_dataset)\n",
    "\n",
    "for text in trump_data:\n",
    "    loadCharsFromTxt(text, trump_dataset)\n",
    "    \n",
    "clinton_y = np.zeros(len(clinton_dataset))\n",
    "trump_y = np.full(len(trump_dataset), 1)\n",
    "\n",
    "x_data = np.concatenate((clinton_dataset, trump_dataset), axis=0)\n",
    "y_data = np.concatenate((clinton_y, trump_y), axis=0)\n",
    "\n",
    "x_train, x_test, y_train, y_test = sk_split(x_data, y_data, test_size = 0.25, random_state = 42)\n",
    "\n",
    "print x_train.shape\n",
    "print y_train.shape\n",
    "\n",
    "model = linear_model.LogisticRegression()\n",
    "model.fit(x_train, y_train)\n",
    "print model.score(x_test, y_test)"
   ]
  },
  {
   "cell_type": "code",
   "execution_count": null,
   "metadata": {
    "collapsed": true
   },
   "outputs": [],
   "source": []
  }
 ],
 "metadata": {
  "anaconda-cloud": {},
  "kernelspec": {
   "display_name": "Python [Root]",
   "language": "python",
   "name": "Python [Root]"
  },
  "language_info": {
   "codemirror_mode": {
    "name": "ipython",
    "version": 2
   },
   "file_extension": ".py",
   "mimetype": "text/x-python",
   "name": "python",
   "nbconvert_exporter": "python",
   "pygments_lexer": "ipython2",
   "version": "2.7.12"
  }
 },
 "nbformat": 4,
 "nbformat_minor": 0
}
