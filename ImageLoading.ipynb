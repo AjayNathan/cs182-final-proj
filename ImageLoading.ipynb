{
 "cells": [
  {
   "cell_type": "code",
   "execution_count": 5,
   "metadata": {
    "collapsed": true
   },
   "outputs": [],
   "source": [
    "import numpy as np\n",
    "import pandas as pd"
   ]
  },
  {
   "cell_type": "code",
   "execution_count": 6,
   "metadata": {
    "collapsed": false
   },
   "outputs": [
    {
     "data": {
      "text/plain": [
       "array([ 0.,  0.,  0.,  0.,  0.])"
      ]
     },
     "execution_count": 6,
     "metadata": {},
     "output_type": "execute_result"
    }
   ],
   "source": [
    "np.zeros(5)"
   ]
  },
  {
   "cell_type": "code",
   "execution_count": 37,
   "metadata": {
    "collapsed": false
   },
   "outputs": [
    {
     "name": "stdout",
     "output_type": "stream",
     "text": [
      "[[ 0.  0.  0. ...,  0.  0.  0.]\n",
      " [ 0.  0.  0. ...,  0.  0.  0.]\n",
      " [ 0.  0.  0. ...,  0.  0.  0.]\n",
      " ..., \n",
      " [ 0.  0.  0. ...,  0.  0.  0.]\n",
      " [ 0.  0.  0. ...,  0.  0.  0.]\n",
      " [ 0.  0.  0. ...,  0.  0.  0.]]\n"
     ]
    }
   ],
   "source": [
    "training_data = pd.read_csv('datasets/tweets.csv', delimiter=',')\n",
    "testing_data = pd.read_csv('datasets/tweets2.csv', delimiter=',')\n",
    "\n",
    "clinton_training_data = training_data[training_data.handle == \"HillaryClinton\"][\"text\"].as_matrix()\n",
    "trump_training_data = training_data[training_data.handle == \"realDonaldTrump\"][\"text\"].as_matrix()\n",
    "\n",
    "clinton_testing_data = testing_data[testing_data.handle == \"HillaryClinton\"][\"text\"].as_matrix()\n",
    "trump_testing_data = testing_data[testing_data.handle == \"realDonaldTrump\"][\"text\"].as_matrix()\n",
    "\n",
    "for text in clinton_training_data:\n",
    "    image = np.zeros((140, 36))\n",
    "    words = text.lower().split()\n",
    "    \n",
    "    charCount = 0\n",
    "    for word in words:\n",
    "        if \"t.co\" in word:\n",
    "            continue\n",
    "        else:\n",
    "            for char in word:\n",
    "                index = None\n",
    "                if char.isalpha():\n",
    "                    index = ord(char) - ord('a')\n",
    "                elif char.isdigit():\n",
    "                    index = ord(char) - ord('0') + 26\n",
    "                image[charCount, index] = 1\n",
    "                charCount += 1\n",
    "    print image\n",
    "    break\n",
    "                "
   ]
  },
  {
   "cell_type": "code",
   "execution_count": null,
   "metadata": {
    "collapsed": true
   },
   "outputs": [],
   "source": []
  }
 ],
 "metadata": {
  "anaconda-cloud": {},
  "kernelspec": {
   "display_name": "Python [Root]",
   "language": "python",
   "name": "Python [Root]"
  },
  "language_info": {
   "codemirror_mode": {
    "name": "ipython",
    "version": 2
   },
   "file_extension": ".py",
   "mimetype": "text/x-python",
   "name": "python",
   "nbconvert_exporter": "python",
   "pygments_lexer": "ipython2",
   "version": "2.7.12"
  }
 },
 "nbformat": 4,
 "nbformat_minor": 0
}
