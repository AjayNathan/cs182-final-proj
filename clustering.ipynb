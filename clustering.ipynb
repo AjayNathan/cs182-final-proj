{
 "cells": [
  {
   "cell_type": "code",
   "execution_count": 51,
   "metadata": {
    "collapsed": false
   },
   "outputs": [
    {
     "name": "stdout",
     "output_type": "stream",
     "text": [
      "['The', 'question', 'in', 'this', 'election', 'Who', 'can', 'put', 'the', 'plans', 'into', 'action', 'that', 'will', 'make', 'your', 'life', 'better'] ['Couldnt', 'be', 'more', 'proud', 'of', 'HillaryClinton', 'Her', 'vision', 'and', 'command', 'during', 'last', 'nights', 'debate', 'showed', 'that', 'shes', 'ready', 'to', 'be', 'our', 'next', 'POTUS']\n",
      "0.9743589743589743\n"
     ]
    }
   ],
   "source": [
    "import pandas as pd\n",
    "import re\n",
    "import string\n",
    "\n",
    "training_data = pd.read_csv('datasets/tweets.csv', delimiter=',')\n",
    "clinton_data_1 = training_data[training_data.handle == \"HillaryClinton\"][\"text\"].as_matrix()\n",
    "\n",
    "\n",
    "def clean(tweet):\n",
    "    pattern = ' https://t.co/\\w+'\n",
    "    punc_pattern = re.compile('[%s]' % re.escape(string.punctuation))\n",
    "    temp = re.sub(pattern, '', tweet)\n",
    "    temp = punc_pattern.sub('', temp)\n",
    "    temp = temp.replace('\\n', '')\n",
    "    return temp\n",
    "\n",
    "clinton_data_1 = list(map(clean, clinton_data_1))\n",
    "\n",
    "def distance(tweet_1, tweet_2):\n",
    "    words_1 = tweet_1.split(' ')\n",
    "    words_2 = tweet_2.split(' ')\n",
    "    print(words_1, words_2)\n",
    "    intersect = list(set(words_1) & set(words_2))\n",
    "    union = list(set(words_1) | set(words_2))\n",
    "    dist = 1. - float(len(intersect))/float(len(union))\n",
    "    return dist \n",
    "    \n",
    "def sum_distances(tweet, tweets):\n",
    "    distances = [distance(tweet, tweet_cmp) for tweet_cmp in tweets]\n",
    "    return sum(distances)\n",
    "\n",
    "def centroids(tweets, k=2):\n",
    "    tuples = list(enumerate(tweets))\n",
    "    distances = []\n",
    "    for i,tweet in tuples:\n",
    "        complement_tweets = tweets[:i]+tweets[i:]\n",
    "        distances.append(tweet)\n",
    "        "
   ]
  },
  {
   "cell_type": "code",
   "execution_count": null,
   "metadata": {
    "collapsed": true
   },
   "outputs": [],
   "source": [
    " "
   ]
  }
 ],
 "metadata": {
  "kernelspec": {
   "display_name": "Python 3",
   "language": "python",
   "name": "python3"
  },
  "language_info": {
   "codemirror_mode": {
    "name": "ipython",
    "version": 3
   },
   "file_extension": ".py",
   "mimetype": "text/x-python",
   "name": "python",
   "nbconvert_exporter": "python",
   "pygments_lexer": "ipython3",
   "version": "3.5.2"
  }
 },
 "nbformat": 4,
 "nbformat_minor": 2
}
